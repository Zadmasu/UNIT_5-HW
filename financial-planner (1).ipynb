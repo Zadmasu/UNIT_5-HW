{
 "cells": [
  {
   "cell_type": "markdown",
   "metadata": {},
   "source": [
    "# Unit 5 - Financial Planning\n"
   ]
  },
  {
   "cell_type": "code",
   "execution_count": 2,
   "metadata": {},
   "outputs": [],
   "source": [
    "# Initial imports\n",
    "import os\n",
    "import requests\n",
    "import pandas as pd\n",
    "from dotenv import load_dotenv\n",
    "import alpaca_trade_api as tradeapi\n",
    "from MCForecastTools import MCSimulation\n",
    "from datetime import datetime\n",
    "\n",
    "%matplotlib inline"
   ]
  },
  {
   "cell_type": "code",
   "execution_count": 3,
   "metadata": {},
   "outputs": [
    {
     "data": {
      "text/plain": [
       "True"
      ]
     },
     "execution_count": 3,
     "metadata": {},
     "output_type": "execute_result"
    }
   ],
   "source": [
    "# Load .env enviroment variables\n",
    "load_dotenv()"
   ]
  },
  {
   "cell_type": "markdown",
   "metadata": {},
   "source": [
    "## Part 1 - Personal Finance Planner"
   ]
  },
  {
   "cell_type": "markdown",
   "metadata": {},
   "source": [
    "### Collect Crypto Prices Using the `requests` Library"
   ]
  },
  {
   "cell_type": "code",
   "execution_count": 4,
   "metadata": {},
   "outputs": [],
   "source": [
    "# Set current amount of crypto assets\n",
    "\n",
    "my_btc= 1.2\n",
    "my_eth= 5.3\n",
    "   "
   ]
  },
  {
   "cell_type": "code",
   "execution_count": 5,
   "metadata": {},
   "outputs": [
    {
     "data": {
      "text/plain": [
       "{'data': {'1': {'id': 1,\n",
       "   'name': 'Bitcoin',\n",
       "   'symbol': 'BTC',\n",
       "   'website_slug': 'bitcoin',\n",
       "   'rank': 1,\n",
       "   'circulating_supply': 18665506,\n",
       "   'total_supply': 18665506,\n",
       "   'max_supply': 21000000,\n",
       "   'quotes': {'USD': {'price': 55067.0,\n",
       "     'volume_24h': 53400340503,\n",
       "     'market_cap': 1028394392444,\n",
       "     'percentage_change_1h': 0.40586372418753,\n",
       "     'percentage_change_24h': 4.39898016294961,\n",
       "     'percentage_change_7d': -5.45349536820312,\n",
       "     'percent_change_1h': 0.40586372418753,\n",
       "     'percent_change_24h': 4.39898016294961,\n",
       "     'percent_change_7d': -5.45349536820312}},\n",
       "   'last_updated': 1616821317}},\n",
       " 'metadata': {'timestamp': 1616821317,\n",
       "  'num_cryptocurrencies': 1329,\n",
       "  'error': None}}"
      ]
     },
     "execution_count": 5,
     "metadata": {},
     "output_type": "execute_result"
    }
   ],
   "source": [
    "# Crypto API URLs\n",
    "btc_url = \"https://api.alternative.me/v2/ticker/Bitcoin/?convert=CAD\"\n",
    "eth_url = \"https://api.alternative.me/v2/ticker/Ethereum/?convert=CAD\"\n",
    "\n",
    "eth_url = eth_url + \"?format=json\"\n",
    "requests.get(eth_url)\n",
    "store_eth_url = requests.get(eth_url)\n",
    "#dir(store_btc_url) # will list all the info\n",
    "data_eth_url = store_eth_url.json()\n",
    "data_eth_url\n",
    "\n",
    "btc_url = btc_url + \"?format=json\"\n",
    "requests.get(btc_url)\n",
    "store_btc_url = requests.get(btc_url)\n",
    "#dir(store_btc_url) # will list all the info\n",
    "data_btc_url = store_btc_url.json()\n",
    "data_btc_url"
   ]
  },
  {
   "cell_type": "code",
   "execution_count": 6,
   "metadata": {},
   "outputs": [
    {
     "name": "stdout",
     "output_type": "stream",
     "text": [
      "The current value of your 1.2 BTC is $69385.20\n",
      "The current value of your 5.3 ETH is $9559.19\n"
     ]
    }
   ],
   "source": [
    "# Fetch current BTC price\n",
    "# YOUR CODE HERE!\n",
    "btc_url = btc_url + \"?format=json\"\n",
    "requests.get(btc_url)\n",
    "store_btc_url = requests.get(btc_url)\n",
    "#dir(store_btc_url) # will list all the info\n",
    "data_btc_url = store_btc_url.json()\n",
    "data_btc_url\n",
    "\n",
    "#print(store_btc_url.content) # only select the content from listed info and print\n",
    "\n",
    "# Fetch current ETH price\n",
    "\n",
    "\n",
    "eth_url = eth_url + \"?format=json\"\n",
    "requests.get(btc_url)\n",
    "store_eth_url = requests.get(eth_url)\n",
    "#dir(store_btc_url) # will list all the info\n",
    "data_eth_url = store_eth_url.json()\n",
    "data_eth_url\n",
    "\n",
    "#print(store_btc_url.content) # only select the content from listed info and print\n",
    "\n",
    "\n",
    "# Compute current value of my crpto\n",
    "\n",
    "# YOUR CODE HERE!\n",
    "my_btc_value = 57821.0 *my_btc\n",
    "my_eth_value = 1803.62 *my_eth\n",
    "total_crypto_value = my_btc_value + my_eth_value\n",
    "# Print current crypto wallet balance\n",
    "print(f\"The current value of your {my_btc} BTC is ${my_btc_value:0.2f}\")\n",
    "print(f\"The current value of your {my_eth} ETH is ${my_eth_value:0.2f}\")"
   ]
  },
  {
   "cell_type": "markdown",
   "metadata": {},
   "source": [
    "### Collect Investments Data Using Alpaca: `SPY` (stocks) and `AGG` (bonds)"
   ]
  },
  {
   "cell_type": "code",
   "execution_count": 7,
   "metadata": {},
   "outputs": [],
   "source": [
    "# Current amount of shares\n",
    "amount_of_shares = 50\n",
    "amount_of_bonds = 200 # AGG bond"
   ]
  },
  {
   "cell_type": "code",
   "execution_count": 8,
   "metadata": {},
   "outputs": [],
   "source": [
    "# Set Alpaca API key and secret\n",
    "api_key = os.getenv(\"APCA_API_KEY_ID\")\n",
    "api_secret = os.getenv(\"APCA_API_SECRET_KEY\")\n",
    "base_url = os.getenv(\"APCA_API_BASE_URL\")\n",
    "\n",
    "# Create the Alpaca API object\n",
    "alpaca = tradeapi.REST(api_key, api_secret, base_url, api_version='v2')"
   ]
  },
  {
   "cell_type": "code",
   "execution_count": 9,
   "metadata": {},
   "outputs": [
    {
     "data": {
      "text/html": [
       "<div>\n",
       "<style scoped>\n",
       "    .dataframe tbody tr th:only-of-type {\n",
       "        vertical-align: middle;\n",
       "    }\n",
       "\n",
       "    .dataframe tbody tr th {\n",
       "        vertical-align: top;\n",
       "    }\n",
       "\n",
       "    .dataframe thead tr th {\n",
       "        text-align: left;\n",
       "    }\n",
       "\n",
       "    .dataframe thead tr:last-of-type th {\n",
       "        text-align: right;\n",
       "    }\n",
       "</style>\n",
       "<table border=\"1\" class=\"dataframe\">\n",
       "  <thead>\n",
       "    <tr>\n",
       "      <th></th>\n",
       "      <th colspan=\"5\" halign=\"left\">AGG</th>\n",
       "      <th colspan=\"5\" halign=\"left\">SPY</th>\n",
       "    </tr>\n",
       "    <tr>\n",
       "      <th></th>\n",
       "      <th>open</th>\n",
       "      <th>high</th>\n",
       "      <th>low</th>\n",
       "      <th>close</th>\n",
       "      <th>volume</th>\n",
       "      <th>open</th>\n",
       "      <th>high</th>\n",
       "      <th>low</th>\n",
       "      <th>close</th>\n",
       "      <th>volume</th>\n",
       "    </tr>\n",
       "    <tr>\n",
       "      <th>time</th>\n",
       "      <th></th>\n",
       "      <th></th>\n",
       "      <th></th>\n",
       "      <th></th>\n",
       "      <th></th>\n",
       "      <th></th>\n",
       "      <th></th>\n",
       "      <th></th>\n",
       "      <th></th>\n",
       "      <th></th>\n",
       "    </tr>\n",
       "  </thead>\n",
       "  <tbody>\n",
       "    <tr>\n",
       "      <th>2021-03-19 00:00:00-04:00</th>\n",
       "      <td>113.4</td>\n",
       "      <td>113.54</td>\n",
       "      <td>113.33</td>\n",
       "      <td>113.5</td>\n",
       "      <td>4674852</td>\n",
       "      <td>389.88</td>\n",
       "      <td>391.569</td>\n",
       "      <td>387.15</td>\n",
       "      <td>389.5</td>\n",
       "      <td>93819590</td>\n",
       "    </tr>\n",
       "  </tbody>\n",
       "</table>\n",
       "</div>"
      ],
      "text/plain": [
       "                             AGG                                     SPY  \\\n",
       "                            open    high     low  close   volume    open   \n",
       "time                                                                       \n",
       "2021-03-19 00:00:00-04:00  113.4  113.54  113.33  113.5  4674852  389.88   \n",
       "\n",
       "                                                             \n",
       "                              high     low  close    volume  \n",
       "time                                                         \n",
       "2021-03-19 00:00:00-04:00  391.569  387.15  389.5  93819590  "
      ]
     },
     "execution_count": 9,
     "metadata": {},
     "output_type": "execute_result"
    }
   ],
   "source": [
    "# Format current date as ISO format\n",
    "today = pd.Timestamp(\"2021-03-19\", tz = \"America/New_York\").isoformat()\n",
    "                                                             #what is get barset\n",
    "# Set the tickers\n",
    "tickers = [\"AGG\", \"SPY\"]\n",
    "\n",
    "# Set timeframe to '1D' for Alpaca API\n",
    "timeframe = \"1D\"\n",
    "\n",
    "# Get current closing prices for SPY and AGG\n",
    "portofolio = alpaca.get_barset(tickers, timeframe, start=today , end =today).df\n",
    "\n",
    "# Preview DataFrame\n",
    "portofolio"
   ]
  },
  {
   "cell_type": "code",
   "execution_count": 10,
   "metadata": {},
   "outputs": [
    {
     "name": "stdout",
     "output_type": "stream",
     "text": [
      "Current AGG closing price: $113.5\n",
      "Current SPY closing price: $389.5\n"
     ]
    }
   ],
   "source": [
    "# Pick AGG and SPY close prices\n",
    "\n",
    "price_spy = portofolio['SPY']\n",
    "closing_prices_spy =price_spy['close']\n",
    "spy_close_price =closing_prices_spy.loc[pd.to_datetime('2021-03-19')]\n",
    "\n",
    "price_agg = portofolio['AGG']\n",
    "closing_prices_agg =price_agg['close']\n",
    "agg_close_price =closing_prices_agg.loc[pd.to_datetime('2021-03-19')]\n",
    "\n",
    "# Print AGG and SPY close prices\n",
    "print(f\"Current AGG closing price: ${agg_close_price}\")\n",
    "print(f\"Current SPY closing price: ${spy_close_price}\")"
   ]
  },
  {
   "cell_type": "code",
   "execution_count": null,
   "metadata": {},
   "outputs": [],
   "source": []
  },
  {
   "cell_type": "code",
   "execution_count": 11,
   "metadata": {},
   "outputs": [
    {
     "name": "stdout",
     "output_type": "stream",
     "text": [
      "The current value of your 50 SPY shares is $19475.00\n",
      "The current value of your 200 AGG shares is $22700.00\n"
     ]
    }
   ],
   "source": [
    "# Compute the current value of shares\n",
    "my_spy = 50\n",
    "my_agg = 200 # AGG bond\n",
    "total_spy_stock_value = spy_close_price *50\n",
    "total_agg_bond_value =agg_close_price*200\n",
    "total_share_value = total_spy_stock_value +total_agg_bond_value\n",
    "# Print current value of share\n",
    "print(f\"The current value of your {my_spy} SPY shares is ${total_spy_stock_value:0.2f}\")\n",
    "print(f\"The current value of your {my_agg} AGG shares is ${total_agg_bond_value:0.2f}\")\n",
    "#total_shares_value =print(f\"The current value of your {my_spy} SPY shares is ${my_spy_value:0.2f}\")+print(f\"The current value of your {my_agg} AGG shares is ${my_agg_value:0.2f}\")"
   ]
  },
  {
   "cell_type": "markdown",
   "metadata": {},
   "source": [
    "### Savings Health Analysis"
   ]
  },
  {
   "cell_type": "code",
   "execution_count": 12,
   "metadata": {},
   "outputs": [
    {
     "data": {
      "text/html": [
       "<div>\n",
       "<style scoped>\n",
       "    .dataframe tbody tr th:only-of-type {\n",
       "        vertical-align: middle;\n",
       "    }\n",
       "\n",
       "    .dataframe tbody tr th {\n",
       "        vertical-align: top;\n",
       "    }\n",
       "\n",
       "    .dataframe thead th {\n",
       "        text-align: right;\n",
       "    }\n",
       "</style>\n",
       "<table border=\"1\" class=\"dataframe\">\n",
       "  <thead>\n",
       "    <tr style=\"text-align: right;\">\n",
       "      <th></th>\n",
       "      <th></th>\n",
       "      <th>amount</th>\n",
       "    </tr>\n",
       "  </thead>\n",
       "  <tbody>\n",
       "    <tr>\n",
       "      <th>crypto</th>\n",
       "      <td></td>\n",
       "      <td>78944.386</td>\n",
       "    </tr>\n",
       "    <tr>\n",
       "      <th>shares</th>\n",
       "      <td></td>\n",
       "      <td>42175.000</td>\n",
       "    </tr>\n",
       "  </tbody>\n",
       "</table>\n",
       "</div>"
      ],
      "text/plain": [
       "             amount\n",
       "crypto    78944.386\n",
       "shares    42175.000"
      ]
     },
     "metadata": {},
     "output_type": "display_data"
    }
   ],
   "source": [
    "# Set monthly household income\n",
    "\n",
    "\n",
    "# Create savings DataFrame,\n",
    "#df_data={\" \":[\"crypto\",\"shares\"],'amount':[16727,23889]}\n",
    "\n",
    "shares = total_share_value\n",
    "crypto = total_crypto_value\n",
    "\n",
    "df_data=pd.DataFrame([('', crypto),\n",
    "                   ('', shares)],\n",
    "                  index=['crypto', 'shares'],\n",
    "                  columns=('', 'amount'))\n",
    "\n",
    "df_savings = pd.DataFrame(data=df_data)\n",
    "# Display savings DataFrame\n",
    "display(df_savings)\n",
    "\n",
    "#df.reset_index(drop=True, inplace=True)\n"
   ]
  },
  {
   "cell_type": "code",
   "execution_count": null,
   "metadata": {},
   "outputs": [],
   "source": []
  },
  {
   "cell_type": "code",
   "execution_count": 13,
   "metadata": {},
   "outputs": [
    {
     "data": {
      "image/png": "[encoded data removed]",
      "text/plain": [
       "<Figure size 432x432 with 1 Axes>"
      ]
     },
     "metadata": {},
     "output_type": "display_data"
    }
   ],
   "source": [
    "# Plot savings pie chart\n",
    "plot = df_savings.plot.pie(y='amount', figsize=(6, 6))"
   ]
  },
  {
   "cell_type": "code",
   "execution_count": 14,
   "metadata": {},
   "outputs": [
    {
     "name": "stdout",
     "output_type": "stream",
     "text": [
      "congratulating the person for having enough money in this fund\n"
     ]
    }
   ],
   "source": [
    "# Set ideal emergency fund\n",
    "monthly_income = 12000\n",
    "emergency_fund = monthly_income * 3\n",
    "\n",
    "# Calculate total amount of savings\n",
    "total_amount_of_saving = shares + crypto\n",
    "\n",
    "# Validate saving health\n",
    "if total_amount_of_saving > emergency_fund:\n",
    "    print (\"congratulating the person for having enough money in this fund\")\n",
    "elif total_amount_of_saving == emergency_fund:\n",
    "    print(\"congratulating the person on reaching this financial goal.\")\n",
    "else:\n",
    "    print(\"your emergency_fund is less than 3 times your monthly income\") # ???????????????????????????"
   ]
  },
  {
   "cell_type": "markdown",
   "metadata": {},
   "source": [
    "## Part 2 - Retirement Planning\n",
    "\n",
    "### Monte Carlo Simulation"
   ]
  },
  {
   "cell_type": "code",
   "execution_count": 15,
   "metadata": {},
   "outputs": [],
   "source": [
    "# Set start and end dates of five years back from today.\n",
    "# Sample results may vary from the solution based on the time frame chosen\n",
    "start_date = pd.Timestamp('2015-08-07', tz='America/New_York').isoformat()\n",
    "end_date = pd.Timestamp('2020-08-07', tz='America/New_York').isoformat()"
   ]
  },
  {
   "cell_type": "code",
   "execution_count": 19,
   "metadata": {},
   "outputs": [
    {
     "data": {
      "text/html": [
       "<div>\n",
       "<style scoped>\n",
       "    .dataframe tbody tr th:only-of-type {\n",
       "        vertical-align: middle;\n",
       "    }\n",
       "\n",
       "    .dataframe tbody tr th {\n",
       "        vertical-align: top;\n",
       "    }\n",
       "\n",
       "    .dataframe thead tr th {\n",
       "        text-align: left;\n",
       "    }\n",
       "\n",
       "    .dataframe thead tr:last-of-type th {\n",
       "        text-align: right;\n",
       "    }\n",
       "</style>\n",
       "<table border=\"1\" class=\"dataframe\">\n",
       "  <thead>\n",
       "    <tr>\n",
       "      <th></th>\n",
       "      <th colspan=\"5\" halign=\"left\">AGG</th>\n",
       "      <th colspan=\"5\" halign=\"left\">SPY</th>\n",
       "    </tr>\n",
       "    <tr>\n",
       "      <th></th>\n",
       "      <th>open</th>\n",
       "      <th>high</th>\n",
       "      <th>low</th>\n",
       "      <th>close</th>\n",
       "      <th>volume</th>\n",
       "      <th>open</th>\n",
       "      <th>high</th>\n",
       "      <th>low</th>\n",
       "      <th>close</th>\n",
       "      <th>volume</th>\n",
       "    </tr>\n",
       "    <tr>\n",
       "      <th>time</th>\n",
       "      <th></th>\n",
       "      <th></th>\n",
       "      <th></th>\n",
       "      <th></th>\n",
       "      <th></th>\n",
       "      <th></th>\n",
       "      <th></th>\n",
       "      <th></th>\n",
       "      <th></th>\n",
       "      <th></th>\n",
       "    </tr>\n",
       "  </thead>\n",
       "  <tbody>\n",
       "    <tr>\n",
       "      <th>2016-08-18 00:00:00-04:00</th>\n",
       "      <td>112.64</td>\n",
       "      <td>112.7799</td>\n",
       "      <td>112.5350</td>\n",
       "      <td>112.705</td>\n",
       "      <td>1814107</td>\n",
       "      <td>218.33</td>\n",
       "      <td>218.90</td>\n",
       "      <td>218.21</td>\n",
       "      <td>218.87</td>\n",
       "      <td>42850145</td>\n",
       "    </tr>\n",
       "    <tr>\n",
       "      <th>2016-08-19 00:00:00-04:00</th>\n",
       "      <td>112.53</td>\n",
       "      <td>112.6200</td>\n",
       "      <td>112.3900</td>\n",
       "      <td>112.490</td>\n",
       "      <td>2961016</td>\n",
       "      <td>218.31</td>\n",
       "      <td>218.75</td>\n",
       "      <td>217.74</td>\n",
       "      <td>218.57</td>\n",
       "      <td>52238224</td>\n",
       "    </tr>\n",
       "    <tr>\n",
       "      <th>2016-08-22 00:00:00-04:00</th>\n",
       "      <td>112.66</td>\n",
       "      <td>112.7380</td>\n",
       "      <td>112.5600</td>\n",
       "      <td>112.650</td>\n",
       "      <td>1647564</td>\n",
       "      <td>218.27</td>\n",
       "      <td>218.80</td>\n",
       "      <td>217.83</td>\n",
       "      <td>218.50</td>\n",
       "      <td>48628907</td>\n",
       "    </tr>\n",
       "    <tr>\n",
       "      <th>2016-08-23 00:00:00-04:00</th>\n",
       "      <td>112.78</td>\n",
       "      <td>112.8250</td>\n",
       "      <td>112.6301</td>\n",
       "      <td>112.690</td>\n",
       "      <td>2197732</td>\n",
       "      <td>219.25</td>\n",
       "      <td>219.60</td>\n",
       "      <td>218.90</td>\n",
       "      <td>218.94</td>\n",
       "      <td>41981207</td>\n",
       "    </tr>\n",
       "    <tr>\n",
       "      <th>2016-08-24 00:00:00-04:00</th>\n",
       "      <td>112.79</td>\n",
       "      <td>112.8000</td>\n",
       "      <td>112.6290</td>\n",
       "      <td>112.660</td>\n",
       "      <td>2071970</td>\n",
       "      <td>218.82</td>\n",
       "      <td>218.91</td>\n",
       "      <td>217.36</td>\n",
       "      <td>217.88</td>\n",
       "      <td>50310103</td>\n",
       "    </tr>\n",
       "  </tbody>\n",
       "</table>\n",
       "</div>"
      ],
      "text/plain": [
       "                              AGG                                        \\\n",
       "                             open      high       low    close   volume   \n",
       "time                                                                      \n",
       "2016-08-18 00:00:00-04:00  112.64  112.7799  112.5350  112.705  1814107   \n",
       "2016-08-19 00:00:00-04:00  112.53  112.6200  112.3900  112.490  2961016   \n",
       "2016-08-22 00:00:00-04:00  112.66  112.7380  112.5600  112.650  1647564   \n",
       "2016-08-23 00:00:00-04:00  112.78  112.8250  112.6301  112.690  2197732   \n",
       "2016-08-24 00:00:00-04:00  112.79  112.8000  112.6290  112.660  2071970   \n",
       "\n",
       "                              SPY                                    \n",
       "                             open    high     low   close    volume  \n",
       "time                                                                 \n",
       "2016-08-18 00:00:00-04:00  218.33  218.90  218.21  218.87  42850145  \n",
       "2016-08-19 00:00:00-04:00  218.31  218.75  217.74  218.57  52238224  \n",
       "2016-08-22 00:00:00-04:00  218.27  218.80  217.83  218.50  48628907  \n",
       "2016-08-23 00:00:00-04:00  219.25  219.60  218.90  218.94  41981207  \n",
       "2016-08-24 00:00:00-04:00  218.82  218.91  217.36  217.88  50310103  "
      ]
     },
     "execution_count": 19,
     "metadata": {},
     "output_type": "execute_result"
    }
   ],
   "source": [
    "# Get 5 years' worth of historical data for SPY and AGG\n",
    "# YOUR CODE HERE!\n",
    "df_stock_data = alpaca.get_barset(tickers, timeframe, start=start_date , end =end_date, limit=1000).df\n",
    "\n",
    "# Display sample data\n",
    "df_stock_data.head()"
   ]
  },
  {
   "cell_type": "markdown",
   "metadata": {},
   "source": [
    "##### Configuring a Monte Carlo simulation to forecast 30 years cumulative returns\n",
    "# YOUR CODE HERE!"
   ]
  },
  {
   "cell_type": "code",
   "execution_count": 22,
   "metadata": {},
   "outputs": [],
   "source": [
    "# Printing the simulation input data\n",
    "# YOUR CODE HERE!\n",
    "\n",
    "portofolio_2 = alpaca.get_barset(tickers, timeframe, start=2020-3-18 , end =today).df\n",
    "\n",
    "MC_30years = MCSimulation(\n",
    "portfolio_data = df_stock_data,\n",
    "weights = [.60, .40],\n",
    "num_simulation = 500,\n",
    "num_trading_days = 252*30)\n"
   ]
  },
  {
   "cell_type": "code",
   "execution_count": 24,
   "metadata": {},
   "outputs": [
    {
     "name": "stdout",
     "output_type": "stream",
     "text": [
      "Running Monte Carlo simulation number 0.\n",
      "Running Monte Carlo simulation number 10.\n",
      "Running Monte Carlo simulation number 20.\n",
      "Running Monte Carlo simulation number 30.\n",
      "Running Monte Carlo simulation number 40.\n",
      "Running Monte Carlo simulation number 50.\n",
      "Running Monte Carlo simulation number 60.\n",
      "Running Monte Carlo simulation number 70.\n",
      "Running Monte Carlo simulation number 80.\n",
      "Running Monte Carlo simulation number 90.\n",
      "Running Monte Carlo simulation number 100.\n",
      "Running Monte Carlo simulation number 110.\n",
      "Running Monte Carlo simulation number 120.\n",
      "Running Monte Carlo simulation number 130.\n",
      "Running Monte Carlo simulation number 140.\n",
      "Running Monte Carlo simulation number 150.\n",
      "Running Monte Carlo simulation number 160.\n",
      "Running Monte Carlo simulation number 170.\n",
      "Running Monte Carlo simulation number 180.\n",
      "Running Monte Carlo simulation number 190.\n",
      "Running Monte Carlo simulation number 200.\n",
      "Running Monte Carlo simulation number 210.\n",
      "Running Monte Carlo simulation number 220.\n",
      "Running Monte Carlo simulation number 230.\n",
      "Running Monte Carlo simulation number 240.\n",
      "Running Monte Carlo simulation number 250.\n",
      "Running Monte Carlo simulation number 260.\n",
      "Running Monte Carlo simulation number 270.\n",
      "Running Monte Carlo simulation number 280.\n",
      "Running Monte Carlo simulation number 290.\n",
      "Running Monte Carlo simulation number 300.\n",
      "Running Monte Carlo simulation number 310.\n",
      "Running Monte Carlo simulation number 320.\n",
      "Running Monte Carlo simulation number 330.\n",
      "Running Monte Carlo simulation number 340.\n",
      "Running Monte Carlo simulation number 350.\n",
      "Running Monte Carlo simulation number 360.\n",
      "Running Monte Carlo simulation number 370.\n",
      "Running Monte Carlo simulation number 380.\n",
      "Running Monte Carlo simulation number 390.\n",
      "Running Monte Carlo simulation number 400.\n",
      "Running Monte Carlo simulation number 410.\n",
      "Running Monte Carlo simulation number 420.\n",
      "Running Monte Carlo simulation number 430.\n",
      "Running Monte Carlo simulation number 440.\n",
      "Running Monte Carlo simulation number 450.\n",
      "Running Monte Carlo simulation number 460.\n",
      "Running Monte Carlo simulation number 470.\n",
      "Running Monte Carlo simulation number 480.\n",
      "Running Monte Carlo simulation number 490.\n"
     ]
    },
    {
     "data": {
      "text/html": [
       "<div>\n",
       "<style scoped>\n",
       "    .dataframe tbody tr th:only-of-type {\n",
       "        vertical-align: middle;\n",
       "    }\n",
       "\n",
       "    .dataframe tbody tr th {\n",
       "        vertical-align: top;\n",
       "    }\n",
       "\n",
       "    .dataframe thead th {\n",
       "        text-align: right;\n",
       "    }\n",
       "</style>\n",
       "<table border=\"1\" class=\"dataframe\">\n",
       "  <thead>\n",
       "    <tr style=\"text-align: right;\">\n",
       "      <th></th>\n",
       "      <th>0</th>\n",
       "      <th>1</th>\n",
       "      <th>2</th>\n",
       "      <th>3</th>\n",
       "      <th>4</th>\n",
       "      <th>5</th>\n",
       "      <th>6</th>\n",
       "      <th>7</th>\n",
       "      <th>8</th>\n",
       "      <th>9</th>\n",
       "      <th>...</th>\n",
       "      <th>490</th>\n",
       "      <th>491</th>\n",
       "      <th>492</th>\n",
       "      <th>493</th>\n",
       "      <th>494</th>\n",
       "      <th>495</th>\n",
       "      <th>496</th>\n",
       "      <th>497</th>\n",
       "      <th>498</th>\n",
       "      <th>499</th>\n",
       "    </tr>\n",
       "  </thead>\n",
       "  <tbody>\n",
       "    <tr>\n",
       "      <th>0</th>\n",
       "      <td>1.000000</td>\n",
       "      <td>1.000000</td>\n",
       "      <td>1.000000</td>\n",
       "      <td>1.000000</td>\n",
       "      <td>1.000000</td>\n",
       "      <td>1.000000</td>\n",
       "      <td>1.000000</td>\n",
       "      <td>1.000000</td>\n",
       "      <td>1.000000</td>\n",
       "      <td>1.000000</td>\n",
       "      <td>...</td>\n",
       "      <td>1.000000</td>\n",
       "      <td>1.000000</td>\n",
       "      <td>1.000000</td>\n",
       "      <td>1.000000</td>\n",
       "      <td>1.000000</td>\n",
       "      <td>1.000000</td>\n",
       "      <td>1.000000</td>\n",
       "      <td>1.000000</td>\n",
       "      <td>1.000000</td>\n",
       "      <td>1.000000</td>\n",
       "    </tr>\n",
       "    <tr>\n",
       "      <th>1</th>\n",
       "      <td>1.006323</td>\n",
       "      <td>1.002818</td>\n",
       "      <td>0.996949</td>\n",
       "      <td>1.004605</td>\n",
       "      <td>1.005996</td>\n",
       "      <td>0.999326</td>\n",
       "      <td>1.003911</td>\n",
       "      <td>0.998545</td>\n",
       "      <td>1.003842</td>\n",
       "      <td>1.006165</td>\n",
       "      <td>...</td>\n",
       "      <td>0.986241</td>\n",
       "      <td>1.010664</td>\n",
       "      <td>1.003678</td>\n",
       "      <td>1.005445</td>\n",
       "      <td>1.002080</td>\n",
       "      <td>0.999811</td>\n",
       "      <td>0.993295</td>\n",
       "      <td>1.002730</td>\n",
       "      <td>0.990216</td>\n",
       "      <td>1.004135</td>\n",
       "    </tr>\n",
       "    <tr>\n",
       "      <th>2</th>\n",
       "      <td>1.007854</td>\n",
       "      <td>1.004097</td>\n",
       "      <td>0.995538</td>\n",
       "      <td>1.007009</td>\n",
       "      <td>0.998938</td>\n",
       "      <td>1.001794</td>\n",
       "      <td>0.993671</td>\n",
       "      <td>0.988012</td>\n",
       "      <td>1.006025</td>\n",
       "      <td>1.007999</td>\n",
       "      <td>...</td>\n",
       "      <td>0.989149</td>\n",
       "      <td>1.004007</td>\n",
       "      <td>1.006331</td>\n",
       "      <td>1.002872</td>\n",
       "      <td>1.001201</td>\n",
       "      <td>1.009794</td>\n",
       "      <td>0.985433</td>\n",
       "      <td>1.005977</td>\n",
       "      <td>0.990011</td>\n",
       "      <td>1.001030</td>\n",
       "    </tr>\n",
       "    <tr>\n",
       "      <th>3</th>\n",
       "      <td>1.009197</td>\n",
       "      <td>1.009408</td>\n",
       "      <td>0.994957</td>\n",
       "      <td>1.002205</td>\n",
       "      <td>1.005112</td>\n",
       "      <td>1.006294</td>\n",
       "      <td>1.000615</td>\n",
       "      <td>0.992177</td>\n",
       "      <td>1.008698</td>\n",
       "      <td>1.015101</td>\n",
       "      <td>...</td>\n",
       "      <td>0.980279</td>\n",
       "      <td>0.998470</td>\n",
       "      <td>1.006493</td>\n",
       "      <td>0.991181</td>\n",
       "      <td>1.015515</td>\n",
       "      <td>1.015742</td>\n",
       "      <td>0.989624</td>\n",
       "      <td>1.008354</td>\n",
       "      <td>0.994735</td>\n",
       "      <td>0.995134</td>\n",
       "    </tr>\n",
       "    <tr>\n",
       "      <th>4</th>\n",
       "      <td>1.001988</td>\n",
       "      <td>1.004926</td>\n",
       "      <td>1.003092</td>\n",
       "      <td>1.001689</td>\n",
       "      <td>1.009169</td>\n",
       "      <td>1.005594</td>\n",
       "      <td>0.994128</td>\n",
       "      <td>0.983089</td>\n",
       "      <td>0.999045</td>\n",
       "      <td>1.009107</td>\n",
       "      <td>...</td>\n",
       "      <td>0.975996</td>\n",
       "      <td>0.998820</td>\n",
       "      <td>1.005823</td>\n",
       "      <td>0.988320</td>\n",
       "      <td>1.013129</td>\n",
       "      <td>1.025062</td>\n",
       "      <td>0.988029</td>\n",
       "      <td>1.009491</td>\n",
       "      <td>0.995549</td>\n",
       "      <td>0.998304</td>\n",
       "    </tr>\n",
       "    <tr>\n",
       "      <th>...</th>\n",
       "      <td>...</td>\n",
       "      <td>...</td>\n",
       "      <td>...</td>\n",
       "      <td>...</td>\n",
       "      <td>...</td>\n",
       "      <td>...</td>\n",
       "      <td>...</td>\n",
       "      <td>...</td>\n",
       "      <td>...</td>\n",
       "      <td>...</td>\n",
       "      <td>...</td>\n",
       "      <td>...</td>\n",
       "      <td>...</td>\n",
       "      <td>...</td>\n",
       "      <td>...</td>\n",
       "      <td>...</td>\n",
       "      <td>...</td>\n",
       "      <td>...</td>\n",
       "      <td>...</td>\n",
       "      <td>...</td>\n",
       "      <td>...</td>\n",
       "    </tr>\n",
       "    <tr>\n",
       "      <th>7556</th>\n",
       "      <td>7.231905</td>\n",
       "      <td>5.324806</td>\n",
       "      <td>5.989194</td>\n",
       "      <td>5.934925</td>\n",
       "      <td>7.094684</td>\n",
       "      <td>18.332085</td>\n",
       "      <td>2.916147</td>\n",
       "      <td>4.881422</td>\n",
       "      <td>3.534811</td>\n",
       "      <td>2.306137</td>\n",
       "      <td>...</td>\n",
       "      <td>7.643249</td>\n",
       "      <td>3.281711</td>\n",
       "      <td>9.800019</td>\n",
       "      <td>6.795060</td>\n",
       "      <td>4.882588</td>\n",
       "      <td>4.537487</td>\n",
       "      <td>5.787952</td>\n",
       "      <td>17.471060</td>\n",
       "      <td>8.488538</td>\n",
       "      <td>5.234765</td>\n",
       "    </tr>\n",
       "    <tr>\n",
       "      <th>7557</th>\n",
       "      <td>7.278813</td>\n",
       "      <td>5.346540</td>\n",
       "      <td>5.937991</td>\n",
       "      <td>5.906190</td>\n",
       "      <td>6.994234</td>\n",
       "      <td>18.309517</td>\n",
       "      <td>2.907462</td>\n",
       "      <td>4.872294</td>\n",
       "      <td>3.517505</td>\n",
       "      <td>2.303259</td>\n",
       "      <td>...</td>\n",
       "      <td>7.746396</td>\n",
       "      <td>3.291183</td>\n",
       "      <td>9.811563</td>\n",
       "      <td>6.838110</td>\n",
       "      <td>4.903677</td>\n",
       "      <td>4.507700</td>\n",
       "      <td>5.761466</td>\n",
       "      <td>17.386991</td>\n",
       "      <td>8.492665</td>\n",
       "      <td>5.232261</td>\n",
       "    </tr>\n",
       "    <tr>\n",
       "      <th>7558</th>\n",
       "      <td>7.310340</td>\n",
       "      <td>5.356295</td>\n",
       "      <td>5.893552</td>\n",
       "      <td>5.895977</td>\n",
       "      <td>7.045938</td>\n",
       "      <td>18.384917</td>\n",
       "      <td>2.932940</td>\n",
       "      <td>4.899104</td>\n",
       "      <td>3.527493</td>\n",
       "      <td>2.294695</td>\n",
       "      <td>...</td>\n",
       "      <td>7.760557</td>\n",
       "      <td>3.278137</td>\n",
       "      <td>9.831467</td>\n",
       "      <td>6.855828</td>\n",
       "      <td>4.866963</td>\n",
       "      <td>4.509598</td>\n",
       "      <td>5.719672</td>\n",
       "      <td>17.341325</td>\n",
       "      <td>8.558412</td>\n",
       "      <td>5.235878</td>\n",
       "    </tr>\n",
       "    <tr>\n",
       "      <th>7559</th>\n",
       "      <td>7.300235</td>\n",
       "      <td>5.316319</td>\n",
       "      <td>5.946118</td>\n",
       "      <td>5.852530</td>\n",
       "      <td>7.070536</td>\n",
       "      <td>18.265992</td>\n",
       "      <td>2.939249</td>\n",
       "      <td>4.929932</td>\n",
       "      <td>3.534632</td>\n",
       "      <td>2.295017</td>\n",
       "      <td>...</td>\n",
       "      <td>7.774321</td>\n",
       "      <td>3.308520</td>\n",
       "      <td>9.837216</td>\n",
       "      <td>6.910722</td>\n",
       "      <td>4.872899</td>\n",
       "      <td>4.483741</td>\n",
       "      <td>5.678994</td>\n",
       "      <td>17.396210</td>\n",
       "      <td>8.605124</td>\n",
       "      <td>5.199044</td>\n",
       "    </tr>\n",
       "    <tr>\n",
       "      <th>7560</th>\n",
       "      <td>7.282236</td>\n",
       "      <td>5.279921</td>\n",
       "      <td>6.003773</td>\n",
       "      <td>5.871485</td>\n",
       "      <td>6.981569</td>\n",
       "      <td>18.312389</td>\n",
       "      <td>2.930200</td>\n",
       "      <td>4.951704</td>\n",
       "      <td>3.537654</td>\n",
       "      <td>2.302900</td>\n",
       "      <td>...</td>\n",
       "      <td>7.805892</td>\n",
       "      <td>3.309119</td>\n",
       "      <td>9.781210</td>\n",
       "      <td>6.853850</td>\n",
       "      <td>4.839818</td>\n",
       "      <td>4.471704</td>\n",
       "      <td>5.657444</td>\n",
       "      <td>17.374709</td>\n",
       "      <td>8.555112</td>\n",
       "      <td>5.226819</td>\n",
       "    </tr>\n",
       "  </tbody>\n",
       "</table>\n",
       "<p>7561 rows × 500 columns</p>\n",
       "</div>"
      ],
      "text/plain": [
       "           0         1         2         3         4          5         6    \\\n",
       "0     1.000000  1.000000  1.000000  1.000000  1.000000   1.000000  1.000000   \n",
       "1     1.006323  1.002818  0.996949  1.004605  1.005996   0.999326  1.003911   \n",
       "2     1.007854  1.004097  0.995538  1.007009  0.998938   1.001794  0.993671   \n",
       "3     1.009197  1.009408  0.994957  1.002205  1.005112   1.006294  1.000615   \n",
       "4     1.001988  1.004926  1.003092  1.001689  1.009169   1.005594  0.994128   \n",
       "...        ...       ...       ...       ...       ...        ...       ...   \n",
       "7556  7.231905  5.324806  5.989194  5.934925  7.094684  18.332085  2.916147   \n",
       "7557  7.278813  5.346540  5.937991  5.906190  6.994234  18.309517  2.907462   \n",
       "7558  7.310340  5.356295  5.893552  5.895977  7.045938  18.384917  2.932940   \n",
       "7559  7.300235  5.316319  5.946118  5.852530  7.070536  18.265992  2.939249   \n",
       "7560  7.282236  5.279921  6.003773  5.871485  6.981569  18.312389  2.930200   \n",
       "\n",
       "           7         8         9    ...       490       491       492  \\\n",
       "0     1.000000  1.000000  1.000000  ...  1.000000  1.000000  1.000000   \n",
       "1     0.998545  1.003842  1.006165  ...  0.986241  1.010664  1.003678   \n",
       "2     0.988012  1.006025  1.007999  ...  0.989149  1.004007  1.006331   \n",
       "3     0.992177  1.008698  1.015101  ...  0.980279  0.998470  1.006493   \n",
       "4     0.983089  0.999045  1.009107  ...  0.975996  0.998820  1.005823   \n",
       "...        ...       ...       ...  ...       ...       ...       ...   \n",
       "7556  4.881422  3.534811  2.306137  ...  7.643249  3.281711  9.800019   \n",
       "7557  4.872294  3.517505  2.303259  ...  7.746396  3.291183  9.811563   \n",
       "7558  4.899104  3.527493  2.294695  ...  7.760557  3.278137  9.831467   \n",
       "7559  4.929932  3.534632  2.295017  ...  7.774321  3.308520  9.837216   \n",
       "7560  4.951704  3.537654  2.302900  ...  7.805892  3.309119  9.781210   \n",
       "\n",
       "           493       494       495       496        497       498       499  \n",
       "0     1.000000  1.000000  1.000000  1.000000   1.000000  1.000000  1.000000  \n",
       "1     1.005445  1.002080  0.999811  0.993295   1.002730  0.990216  1.004135  \n",
       "2     1.002872  1.001201  1.009794  0.985433   1.005977  0.990011  1.001030  \n",
       "3     0.991181  1.015515  1.015742  0.989624   1.008354  0.994735  0.995134  \n",
       "4     0.988320  1.013129  1.025062  0.988029   1.009491  0.995549  0.998304  \n",
       "...        ...       ...       ...       ...        ...       ...       ...  \n",
       "7556  6.795060  4.882588  4.537487  5.787952  17.471060  8.488538  5.234765  \n",
       "7557  6.838110  4.903677  4.507700  5.761466  17.386991  8.492665  5.232261  \n",
       "7558  6.855828  4.866963  4.509598  5.719672  17.341325  8.558412  5.235878  \n",
       "7559  6.910722  4.872899  4.483741  5.678994  17.396210  8.605124  5.199044  \n",
       "7560  6.853850  4.839818  4.471704  5.657444  17.374709  8.555112  5.226819  \n",
       "\n",
       "[7561 rows x 500 columns]"
      ]
     },
     "execution_count": 24,
     "metadata": {},
     "output_type": "execute_result"
    }
   ],
   "source": [
    "# Running a Monte Carlo simulation to forecast 30 years cumulative returns\n",
    "MC_30years.calc_cumulative_return()"
   ]
  },
  {
   "cell_type": "code",
   "execution_count": 25,
   "metadata": {},
   "outputs": [
    {
     "data": {
      "image/png": "[encoded data removed]",
      "text/plain": [
       "<Figure size 432x288 with 1 Axes>"
      ]
     },
     "metadata": {
      "needs_background": "light"
     },
     "output_type": "display_data"
    }
   ],
   "source": [
    "# Plot simulation outcomes\n",
    "MC_30years_plot = MC_30years.plot_simulation()"
   ]
  },
  {
   "cell_type": "code",
   "execution_count": 26,
   "metadata": {},
   "outputs": [
    {
     "data": {
      "image/png": "[encoded data removed]",
      "text/plain": [
       "<Figure size 432x288 with 1 Axes>"
      ]
     },
     "metadata": {
      "needs_background": "light"
     },
     "output_type": "display_data"
    }
   ],
   "source": [
    "# Plot probability distribution and confidence intervals\n",
    "# YOUR CODE HERE!\n",
    "#spy_daily_return = closing_prices_spy.pct_change()\n",
    "#agg_daily_return = closing_prices_agg.pct_change()\n",
    "#spy_daily_return.head(10)\n",
    "dist_plot = MC_30years.plot_distribution()"
   ]
  },
  {
   "cell_type": "markdown",
   "metadata": {},
   "source": [
    "### Retirement Analysis"
   ]
  },
  {
   "cell_type": "code",
   "execution_count": 28,
   "metadata": {},
   "outputs": [
    {
     "name": "stdout",
     "output_type": "stream",
     "text": [
      "count           500.000000\n",
      "mean              6.061059\n",
      "std               3.205234\n",
      "min               1.047642\n",
      "25%               3.881784\n",
      "50%               5.313687\n",
      "75%               7.290129\n",
      "max              23.747453\n",
      "95% CI Lower      2.179481\n",
      "95% CI Upper     14.201111\n",
      "Name: 7560, dtype: float64\n"
     ]
    }
   ],
   "source": [
    "# Fetch summary statistics from the Monte Carlo simulation results\n",
    "table = MC_30years.summarize_cumulative_return()\n",
    "\n",
    "# Print summary statistics\n",
    "print(table)"
   ]
  },
  {
   "cell_type": "markdown",
   "metadata": {},
   "source": [
    "### Calculate the expected portfolio return at the 95% lower and upper confidence intervals based on a `$20,000` initial investment."
   ]
  },
  {
   "cell_type": "code",
   "execution_count": 32,
   "metadata": {},
   "outputs": [
    {
     "name": "stdout",
     "output_type": "stream",
     "text": [
      "43590\n",
      "284022\n",
      "There is a 95% chance that an initial investment of $20000 in the portfolio over the next 30 years will end within in the range of $43590 and $284022\n"
     ]
    }
   ],
   "source": [
    "# Set initial investment\n",
    "initial_investment = 20000\n",
    "ci_lower= round(table[8]*initial_investment)\n",
    "ci_upper=round(table[9]*initial_investment)\n",
    "\n",
    "# Use the lower and upper `95%` confidence intervals to calculate the range of the possible outcomes of our $20,000\n",
    "# YOUR CODE HERE!\n",
    "print(table_lower)\n",
    "print(table_upper)\n",
    " #Print results\n",
    "print(f\"There is a 95% chance that an initial investment of ${initial_investment} in the portfolio\"\n",
    "      f\" over the next 30 years will end within in the range of\"\n",
    "      f\" ${ci_lower} and ${ci_upper}\")"
   ]
  },
  {
   "cell_type": "markdown",
   "metadata": {},
   "source": [
    "### Calculate the expected portfolio return at the `95%` lower and upper confidence intervals based on a `50%` increase in the initial investment."
   ]
  },
  {
   "cell_type": "code",
   "execution_count": 33,
   "metadata": {},
   "outputs": [
    {
     "name": "stdout",
     "output_type": "stream",
     "text": [
      "There is a 95% chance that an initial investment of $20000 in the portfolio over the next 30 years will end within in the range of $65384 and $426033\n"
     ]
    }
   ],
   "source": [
    "# Set initial investment\n",
    "initial_investment_50 = 20000 * 1.5\n",
    "\n",
    "ci_lower_50= round(table[8]*initial_investment_50)\n",
    "ci_upper_50=round(table[9]*initial_investment_50)\n",
    "# Use the lower and upper `95%` confidence intervals to calculate the range of the possible outcomes of our $30,000\n",
    "# YOUR CODE HERE!\n",
    "\n",
    "# Print results\n",
    "print(f\"There is a 95% chance that an initial investment of ${initial_investment} in the portfolio\"\n",
    "      f\" over the next 30 years will end within in the range of\"\n",
    "      f\" ${ci_lower_50} and ${ci_upper_50}\")"
   ]
  },
  {
   "cell_type": "markdown",
   "metadata": {},
   "source": [
    "## Optional Challenge - Early Retirement\n",
    "\n",
    "\n",
    "### Five Years Retirement Option"
   ]
  },
  {
   "cell_type": "code",
   "execution_count": null,
   "metadata": {},
   "outputs": [],
   "source": [
    "# Configuring a Monte Carlo simulation to forecast 5 years cumulative returns\n",
    "# YOUR CODE HERE!"
   ]
  },
  {
   "cell_type": "code",
   "execution_count": null,
   "metadata": {},
   "outputs": [],
   "source": [
    "# Running a Monte Carlo simulation to forecast 5 years cumulative returns\n",
    "# YOUR CODE HERE!"
   ]
  },
  {
   "cell_type": "code",
   "execution_count": null,
   "metadata": {},
   "outputs": [],
   "source": [
    "# Plot simulation outcomes\n",
    "# YOUR CODE HERE!"
   ]
  },
  {
   "cell_type": "code",
   "execution_count": null,
   "metadata": {},
   "outputs": [],
   "source": [
    "# Plot probability distribution and confidence intervals\n",
    "# YOUR CODE HERE!"
   ]
  },
  {
   "cell_type": "code",
   "execution_count": null,
   "metadata": {},
   "outputs": [],
   "source": [
    "# Fetch summary statistics from the Monte Carlo simulation results\n",
    "# YOUR CODE HERE!\n",
    "\n",
    "# Print summary statistics\n",
    "# YOUR CODE HERE!"
   ]
  },
  {
   "cell_type": "code",
   "execution_count": null,
   "metadata": {},
   "outputs": [],
   "source": [
    "# Set initial investment\n",
    "# YOUR CODE HERE!\n",
    "\n",
    "# Use the lower and upper `95%` confidence intervals to calculate the range of the possible outcomes of our $60,000\n",
    "# YOUR CODE HERE!\n",
    "\n",
    "# Print results\n",
    "print(f\"There is a 95% chance that an initial investment of ${initial_investment} in the portfolio\"\n",
    "      f\" over the next 5 years will end within in the range of\"\n",
    "      f\" ${ci_lower_five} and ${ci_upper_five}\")"
   ]
  },
  {
   "cell_type": "markdown",
   "metadata": {},
   "source": [
    "### Ten Years Retirement Option"
   ]
  },
  {
   "cell_type": "code",
   "execution_count": null,
   "metadata": {},
   "outputs": [],
   "source": [
    "# Configuring a Monte Carlo simulation to forecast 10 years cumulative returns\n",
    "# YOUR CODE HERE!"
   ]
  },
  {
   "cell_type": "code",
   "execution_count": null,
   "metadata": {},
   "outputs": [],
   "source": [
    "# Running a Monte Carlo simulation to forecast 10 years cumulative returns\n",
    "# YOUR CODE HERE!"
   ]
  },
  {
   "cell_type": "code",
   "execution_count": null,
   "metadata": {},
   "outputs": [],
   "source": [
    "# Plot simulation outcomes\n",
    "# YOUR CODE HERE!"
   ]
  },
  {
   "cell_type": "code",
   "execution_count": null,
   "metadata": {},
   "outputs": [],
   "source": [
    "# Plot probability distribution and confidence intervals\n",
    "# YOUR CODE HERE!"
   ]
  },
  {
   "cell_type": "code",
   "execution_count": null,
   "metadata": {},
   "outputs": [],
   "source": [
    "# Fetch summary statistics from the Monte Carlo simulation results\n",
    "# YOUR CODE HERE!\n",
    "\n",
    "# Print summary statistics\n",
    "# YOUR CODE HERE!"
   ]
  },
  {
   "cell_type": "code",
   "execution_count": null,
   "metadata": {},
   "outputs": [],
   "source": [
    "# Set initial investment\n",
    "# YOUR CODE HERE!\n",
    "\n",
    "# Use the lower and upper `95%` confidence intervals to calculate the range of the possible outcomes of our $60,000\n",
    "# YOUR CODE HERE!\n",
    "\n",
    "# Print results\n",
    "print(f\"There is a 95% chance that an initial investment of ${initial_investment} in the portfolio\"\n",
    "      f\" over the next 10 years will end within in the range of\"\n",
    "      f\" ${ci_lower_ten} and ${ci_upper_ten}\")"
   ]
  }
 ],
 "metadata": {
  "kernelspec": {
   "display_name": "Python 3",
   "language": "python",
   "name": "python3"
  },
  "language_info": {
   "codemirror_mode": {
    "name": "ipython",
    "version": 3
   },
   "file_extension": ".py",
   "mimetype": "text/x-python",
   "name": "python",
   "nbconvert_exporter": "python",
   "pygments_lexer": "ipython3",
   "version": "3.8.5"
  }
 },
 "nbformat": 4,
 "nbformat_minor": 4
}
